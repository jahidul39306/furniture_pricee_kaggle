{
 "cells": [
  {
   "cell_type": "code",
   "execution_count": 1,
   "id": "e6d680d0",
   "metadata": {
    "_cell_guid": "4729ddc7-f4d7-4685-8f73-8aeebac85bcf",
    "_uuid": "521c4bcb-3d91-4296-be13-c5e6332eafb8",
    "collapsed": false,
    "execution": {
     "iopub.execute_input": "2023-04-27T02:44:31.465908Z",
     "iopub.status.busy": "2023-04-27T02:44:31.464846Z",
     "iopub.status.idle": "2023-04-27T02:44:31.484787Z",
     "shell.execute_reply": "2023-04-27T02:44:31.483463Z"
    },
    "jupyter": {
     "outputs_hidden": false
    },
    "papermill": {
     "duration": 0.041488,
     "end_time": "2023-04-27T02:44:31.487527",
     "exception": false,
     "start_time": "2023-04-27T02:44:31.446039",
     "status": "completed"
    },
    "tags": []
   },
   "outputs": [
    {
     "name": "stdout",
     "output_type": "stream",
     "text": [
      "/kaggle/input/furniture-price-prediction/Furniture Price Prediction.csv\n"
     ]
    }
   ],
   "source": [
    "# This Python 3 environment comes with many helpful analytics libraries installed\n",
    "# It is defined by the kaggle/python Docker image: https://github.com/kaggle/docker-python\n",
    "# For example, here's several helpful packages to load\n",
    "\n",
    "import numpy as np # linear algebra\n",
    "import pandas as pd # data processing, CSV file I/O (e.g. pd.read_csv)\n",
    "\n",
    "# Input data files are available in the read-only \"../input/\" directory\n",
    "# For example, running this (by clicking run or pressing Shift+Enter) will list all files under the input directory\n",
    "\n",
    "import os\n",
    "file_names = list()\n",
    "for dirname, _, filenames in os.walk('/kaggle/input'):\n",
    "    for filename in filenames:\n",
    "        file_names.append(os.path.join(dirname, filename))\n",
    "        print(os.path.join(dirname, filename))\n",
    "\n",
    "# You can write up to 20GB to the current directory (/kaggle/working/) that gets preserved as output when you create a version using \"Save & Run All\" \n",
    "# You can also write temporary files to /kaggle/temp/, but they won't be saved outside of the current session"
   ]
  },
  {
   "cell_type": "code",
   "execution_count": 2,
   "id": "3cb87d90",
   "metadata": {
    "_cell_guid": "9a27eb6e-6bf5-40b7-b6d8-beca1b7008cf",
    "_uuid": "0cdc0ffa-e03e-4248-9b36-5fbdac251200",
    "collapsed": false,
    "execution": {
     "iopub.execute_input": "2023-04-27T02:44:31.519791Z",
     "iopub.status.busy": "2023-04-27T02:44:31.519259Z",
     "iopub.status.idle": "2023-04-27T02:44:31.556743Z",
     "shell.execute_reply": "2023-04-27T02:44:31.555332Z"
    },
    "jupyter": {
     "outputs_hidden": false
    },
    "papermill": {
     "duration": 0.056552,
     "end_time": "2023-04-27T02:44:31.559593",
     "exception": false,
     "start_time": "2023-04-27T02:44:31.503041",
     "status": "completed"
    },
    "tags": []
   },
   "outputs": [],
   "source": [
    "furniture_data = pd.read_csv(file_names[0])"
   ]
  },
  {
   "cell_type": "markdown",
   "id": "8ad72f24",
   "metadata": {
    "_cell_guid": "240075c7-13fa-4078-a1c7-29ef6f1d5688",
    "_uuid": "d03622f1-9468-4413-a4f1-8ebc5e92adf5",
    "papermill": {
     "duration": 0.01359,
     "end_time": "2023-04-27T02:44:31.587440",
     "exception": false,
     "start_time": "2023-04-27T02:44:31.573850",
     "status": "completed"
    },
    "tags": []
   },
   "source": [
    "# Exploring the Data"
   ]
  },
  {
   "cell_type": "code",
   "execution_count": 3,
   "id": "7d988d37",
   "metadata": {
    "_cell_guid": "a704f77e-a8e7-4a7d-b69c-2e5f713f9887",
    "_uuid": "1105f92e-9986-466c-b60a-2b731300f4cf",
    "collapsed": false,
    "execution": {
     "iopub.execute_input": "2023-04-27T02:44:31.619137Z",
     "iopub.status.busy": "2023-04-27T02:44:31.618599Z",
     "iopub.status.idle": "2023-04-27T02:44:31.652687Z",
     "shell.execute_reply": "2023-04-27T02:44:31.651464Z"
    },
    "jupyter": {
     "outputs_hidden": false
    },
    "papermill": {
     "duration": 0.052398,
     "end_time": "2023-04-27T02:44:31.655166",
     "exception": false,
     "start_time": "2023-04-27T02:44:31.602768",
     "status": "completed"
    },
    "tags": []
   },
   "outputs": [
    {
     "data": {
      "text/html": [
       "<div>\n",
       "<style scoped>\n",
       "    .dataframe tbody tr th:only-of-type {\n",
       "        vertical-align: middle;\n",
       "    }\n",
       "\n",
       "    .dataframe tbody tr th {\n",
       "        vertical-align: top;\n",
       "    }\n",
       "\n",
       "    .dataframe thead th {\n",
       "        text-align: right;\n",
       "    }\n",
       "</style>\n",
       "<table border=\"1\" class=\"dataframe\">\n",
       "  <thead>\n",
       "    <tr style=\"text-align: right;\">\n",
       "      <th></th>\n",
       "      <th>furniture</th>\n",
       "      <th>type</th>\n",
       "      <th>url</th>\n",
       "      <th>rate</th>\n",
       "      <th>delivery</th>\n",
       "      <th>sale</th>\n",
       "      <th>price</th>\n",
       "    </tr>\n",
       "  </thead>\n",
       "  <tbody>\n",
       "    <tr>\n",
       "      <th>0</th>\n",
       "      <td>Bed side table with storage shelf</td>\n",
       "      <td>Home Decor Center</td>\n",
       "      <td>https://www.jumia.com.eg//ar/home-decor-center...</td>\n",
       "      <td>3.3</td>\n",
       "      <td>172.14</td>\n",
       "      <td>72%</td>\n",
       "      <td>2500.0</td>\n",
       "    </tr>\n",
       "    <tr>\n",
       "      <th>1</th>\n",
       "      <td>Bed side table with storage shelf</td>\n",
       "      <td>Modern Home</td>\n",
       "      <td>https://www.jumia.com.eg//ar/modern-home-bedsi...</td>\n",
       "      <td>0.0</td>\n",
       "      <td>172.14</td>\n",
       "      <td>54%</td>\n",
       "      <td>1200.0</td>\n",
       "    </tr>\n",
       "    <tr>\n",
       "      <th>2</th>\n",
       "      <td>Modern Zigzag TV Table</td>\n",
       "      <td>Modern Home</td>\n",
       "      <td>https://www.jumia.com.eg//ar/generic-zigzag-tv...</td>\n",
       "      <td>0.0</td>\n",
       "      <td>172.14</td>\n",
       "      <td>18%</td>\n",
       "      <td>1099.0</td>\n",
       "    </tr>\n",
       "    <tr>\n",
       "      <th>3</th>\n",
       "      <td>Bedside table with storage shelf</td>\n",
       "      <td>Modern Home</td>\n",
       "      <td>https://www.jumia.com.eg//ar/modern-home-bedsi...</td>\n",
       "      <td>0.0</td>\n",
       "      <td>172.14</td>\n",
       "      <td>58%</td>\n",
       "      <td>1200.0</td>\n",
       "    </tr>\n",
       "    <tr>\n",
       "      <th>4</th>\n",
       "      <td>Wall Mounted TV Unit with Cabinet TV Stand Uni...</td>\n",
       "      <td>Modern Home</td>\n",
       "      <td>https://www.jumia.com.eg//ar/modern-home-wall-...</td>\n",
       "      <td>5.0</td>\n",
       "      <td>52.44</td>\n",
       "      <td>54%</td>\n",
       "      <td>1400.0</td>\n",
       "    </tr>\n",
       "  </tbody>\n",
       "</table>\n",
       "</div>"
      ],
      "text/plain": [
       "                                           furniture               type  \\\n",
       "0                 Bed side table with storage shelf   Home Decor Center   \n",
       "1                 Bed side table with storage shelf         Modern Home   \n",
       "2                            Modern Zigzag TV Table         Modern Home   \n",
       "3                  Bedside table with storage shelf         Modern Home   \n",
       "4  Wall Mounted TV Unit with Cabinet TV Stand Uni...        Modern Home   \n",
       "\n",
       "                                                 url  rate  delivery sale  \\\n",
       "0  https://www.jumia.com.eg//ar/home-decor-center...   3.3    172.14  72%   \n",
       "1  https://www.jumia.com.eg//ar/modern-home-bedsi...   0.0    172.14  54%   \n",
       "2  https://www.jumia.com.eg//ar/generic-zigzag-tv...   0.0    172.14  18%   \n",
       "3  https://www.jumia.com.eg//ar/modern-home-bedsi...   0.0    172.14  58%   \n",
       "4  https://www.jumia.com.eg//ar/modern-home-wall-...   5.0     52.44  54%   \n",
       "\n",
       "    price  \n",
       "0  2500.0  \n",
       "1  1200.0  \n",
       "2  1099.0  \n",
       "3  1200.0  \n",
       "4  1400.0  "
      ]
     },
     "execution_count": 3,
     "metadata": {},
     "output_type": "execute_result"
    }
   ],
   "source": [
    "# Top 5 values of the data\n",
    "furniture_data.head()"
   ]
  },
  {
   "cell_type": "code",
   "execution_count": 4,
   "id": "0077028d",
   "metadata": {
    "_cell_guid": "8a3dd81b-4e61-4155-bf8a-7053c455e86d",
    "_uuid": "50847fe7-06e2-4326-a9d9-8408cdb8d27f",
    "collapsed": false,
    "execution": {
     "iopub.execute_input": "2023-04-27T02:44:31.686393Z",
     "iopub.status.busy": "2023-04-27T02:44:31.685857Z",
     "iopub.status.idle": "2023-04-27T02:44:31.714204Z",
     "shell.execute_reply": "2023-04-27T02:44:31.712341Z"
    },
    "jupyter": {
     "outputs_hidden": false
    },
    "papermill": {
     "duration": 0.047285,
     "end_time": "2023-04-27T02:44:31.716622",
     "exception": false,
     "start_time": "2023-04-27T02:44:31.669337",
     "status": "completed"
    },
    "tags": []
   },
   "outputs": [
    {
     "name": "stdout",
     "output_type": "stream",
     "text": [
      "<class 'pandas.core.frame.DataFrame'>\n",
      "RangeIndex: 2000 entries, 0 to 1999\n",
      "Data columns (total 7 columns):\n",
      " #   Column     Non-Null Count  Dtype  \n",
      "---  ------     --------------  -----  \n",
      " 0   furniture  2000 non-null   object \n",
      " 1   type       2000 non-null   object \n",
      " 2   url        2000 non-null   object \n",
      " 3   rate       2000 non-null   float64\n",
      " 4   delivery   2000 non-null   float64\n",
      " 5   sale       2000 non-null   object \n",
      " 6   price      1961 non-null   float64\n",
      "dtypes: float64(3), object(4)\n",
      "memory usage: 109.5+ KB\n"
     ]
    }
   ],
   "source": [
    "# Data's number of rows, columns, data types and missing values\n",
    "furniture_data.info()"
   ]
  },
  {
   "cell_type": "code",
   "execution_count": 5,
   "id": "20bcf81b",
   "metadata": {
    "_cell_guid": "77018169-1008-4f00-8921-7b11c8dfff5f",
    "_uuid": "de4873dc-7c88-467d-9b45-5c1ea29cbaeb",
    "collapsed": false,
    "execution": {
     "iopub.execute_input": "2023-04-27T02:44:31.747322Z",
     "iopub.status.busy": "2023-04-27T02:44:31.746804Z",
     "iopub.status.idle": "2023-04-27T02:44:31.763611Z",
     "shell.execute_reply": "2023-04-27T02:44:31.760468Z"
    },
    "jupyter": {
     "outputs_hidden": false
    },
    "papermill": {
     "duration": 0.035709,
     "end_time": "2023-04-27T02:44:31.766453",
     "exception": false,
     "start_time": "2023-04-27T02:44:31.730744",
     "status": "completed"
    },
    "tags": []
   },
   "outputs": [
    {
     "name": "stdout",
     "output_type": "stream",
     "text": [
      "Feature name: furniture\n",
      "Modern capton bed, cm wood                          29\n",
      "cm TV table                                         27\n",
      "Corner bed                                          22\n",
      "Sofa bed                                            21\n",
      "Mora mattress, ten years guarantee, size is high    19\n",
      "                                                    ..\n",
      "Living room                                          1\n",
      "Home Gallery Wall Shelf x x White                    1\n",
      "New Primo Sofa Bed                                   1\n",
      "In Home Bed Sofa - 120 *190 Cm -  Teal               1\n",
      "Coffee table + side table                            1\n",
      "Name: furniture, Length: 1224, dtype: int64\n",
      "\n",
      "\n",
      "Feature name: type\n",
      "Modern Home                                                           678\n",
      "Rango                                                                  81\n",
      "Marfy Touch                                                            57\n",
      "General                                                                51\n",
      "Artistico                                                              44\n",
      "                                                                     ... \n",
      "Modern Home R        PCS                                                1\n",
      "Epoch Sylvanian Families Ka     Shining room light                      1\n",
      "Sprayer model coloring  art drawing                                     1\n",
      "Rango Romantic Chair   Black                                            1\n",
      "Casio Standard Analogue Ladys Standard Analog Women s LTP V   G  A      1\n",
      "Name: type, Length: 592, dtype: int64\n",
      "\n",
      "\n",
      "Feature name: sale\n",
      "0%     536\n",
      "17%    153\n",
      "50%    111\n",
      "13%     75\n",
      "10%     63\n",
      "      ... \n",
      "79%      1\n",
      "74%      1\n",
      "83%      1\n",
      "81%      1\n",
      "84%      1\n",
      "Name: sale, Length: 81, dtype: int64\n",
      "\n",
      "\n"
     ]
    }
   ],
   "source": [
    "# Categorical data's value count\n",
    "features_cat = [\"furniture\", \"type\", \"sale\"]\n",
    "for fe in features_cat:\n",
    "    print(\"Feature name: \" + fe)\n",
    "    print(furniture_data[fe].value_counts())\n",
    "    print(\"\\n\")"
   ]
  },
  {
   "cell_type": "code",
   "execution_count": 6,
   "id": "a7400f46",
   "metadata": {
    "_cell_guid": "c4c24fc7-edec-4e75-8cba-2c90c6c75a48",
    "_uuid": "9c1a7ddf-bba9-49d0-9045-9f0b8a04fdac",
    "collapsed": false,
    "execution": {
     "iopub.execute_input": "2023-04-27T02:44:31.798384Z",
     "iopub.status.busy": "2023-04-27T02:44:31.797309Z",
     "iopub.status.idle": "2023-04-27T02:44:31.823610Z",
     "shell.execute_reply": "2023-04-27T02:44:31.822311Z"
    },
    "jupyter": {
     "outputs_hidden": false
    },
    "papermill": {
     "duration": 0.045491,
     "end_time": "2023-04-27T02:44:31.826766",
     "exception": false,
     "start_time": "2023-04-27T02:44:31.781275",
     "status": "completed"
    },
    "tags": []
   },
   "outputs": [
    {
     "data": {
      "text/html": [
       "<div>\n",
       "<style scoped>\n",
       "    .dataframe tbody tr th:only-of-type {\n",
       "        vertical-align: middle;\n",
       "    }\n",
       "\n",
       "    .dataframe tbody tr th {\n",
       "        vertical-align: top;\n",
       "    }\n",
       "\n",
       "    .dataframe thead th {\n",
       "        text-align: right;\n",
       "    }\n",
       "</style>\n",
       "<table border=\"1\" class=\"dataframe\">\n",
       "  <thead>\n",
       "    <tr style=\"text-align: right;\">\n",
       "      <th></th>\n",
       "      <th>rate</th>\n",
       "      <th>delivery</th>\n",
       "      <th>price</th>\n",
       "    </tr>\n",
       "  </thead>\n",
       "  <tbody>\n",
       "    <tr>\n",
       "      <th>count</th>\n",
       "      <td>2000.000000</td>\n",
       "      <td>2000.000000</td>\n",
       "      <td>1961.000000</td>\n",
       "    </tr>\n",
       "    <tr>\n",
       "      <th>mean</th>\n",
       "      <td>0.743450</td>\n",
       "      <td>142.673285</td>\n",
       "      <td>2910.418195</td>\n",
       "    </tr>\n",
       "    <tr>\n",
       "      <th>std</th>\n",
       "      <td>1.611737</td>\n",
       "      <td>139.339128</td>\n",
       "      <td>4002.917206</td>\n",
       "    </tr>\n",
       "    <tr>\n",
       "      <th>min</th>\n",
       "      <td>0.000000</td>\n",
       "      <td>10.830000</td>\n",
       "      <td>13.400000</td>\n",
       "    </tr>\n",
       "    <tr>\n",
       "      <th>25%</th>\n",
       "      <td>0.000000</td>\n",
       "      <td>52.440000</td>\n",
       "      <td>740.000000</td>\n",
       "    </tr>\n",
       "    <tr>\n",
       "      <th>50%</th>\n",
       "      <td>0.000000</td>\n",
       "      <td>172.140000</td>\n",
       "      <td>1900.000000</td>\n",
       "    </tr>\n",
       "    <tr>\n",
       "      <th>75%</th>\n",
       "      <td>0.000000</td>\n",
       "      <td>172.140000</td>\n",
       "      <td>4000.000000</td>\n",
       "    </tr>\n",
       "    <tr>\n",
       "      <th>max</th>\n",
       "      <td>5.000000</td>\n",
       "      <td>2409.900000</td>\n",
       "      <td>55000.000000</td>\n",
       "    </tr>\n",
       "  </tbody>\n",
       "</table>\n",
       "</div>"
      ],
      "text/plain": [
       "              rate     delivery         price\n",
       "count  2000.000000  2000.000000   1961.000000\n",
       "mean      0.743450   142.673285   2910.418195\n",
       "std       1.611737   139.339128   4002.917206\n",
       "min       0.000000    10.830000     13.400000\n",
       "25%       0.000000    52.440000    740.000000\n",
       "50%       0.000000   172.140000   1900.000000\n",
       "75%       0.000000   172.140000   4000.000000\n",
       "max       5.000000  2409.900000  55000.000000"
      ]
     },
     "execution_count": 6,
     "metadata": {},
     "output_type": "execute_result"
    }
   ],
   "source": [
    "# Getting more info about numerical features in the data \n",
    "furniture_data.describe()"
   ]
  },
  {
   "cell_type": "code",
   "execution_count": 7,
   "id": "a20c8fa1",
   "metadata": {
    "_cell_guid": "bd9b1d4e-fffd-46d7-8d20-a00a83a46b25",
    "_uuid": "78b005a9-d5a6-45f6-81ea-4c9c1c5ec2a8",
    "collapsed": false,
    "execution": {
     "iopub.execute_input": "2023-04-27T02:44:31.859721Z",
     "iopub.status.busy": "2023-04-27T02:44:31.859082Z",
     "iopub.status.idle": "2023-04-27T02:44:31.863672Z",
     "shell.execute_reply": "2023-04-27T02:44:31.862318Z"
    },
    "jupyter": {
     "outputs_hidden": false
    },
    "papermill": {
     "duration": 0.024314,
     "end_time": "2023-04-27T02:44:31.866462",
     "exception": false,
     "start_time": "2023-04-27T02:44:31.842148",
     "status": "completed"
    },
    "tags": []
   },
   "outputs": [],
   "source": [
    "# Numerical feature's histogram\n",
    "import matplotlib.pyplot as plt"
   ]
  },
  {
   "cell_type": "code",
   "execution_count": 8,
   "id": "746d8ffa",
   "metadata": {
    "_cell_guid": "ecd43c5e-8745-415d-981d-116ba97a84b7",
    "_uuid": "22c722df-5815-45fe-93f0-fac267459ffb",
    "collapsed": false,
    "execution": {
     "iopub.execute_input": "2023-04-27T02:44:31.898822Z",
     "iopub.status.busy": "2023-04-27T02:44:31.898374Z",
     "iopub.status.idle": "2023-04-27T02:44:32.431676Z",
     "shell.execute_reply": "2023-04-27T02:44:32.430382Z"
    },
    "jupyter": {
     "outputs_hidden": false
    },
    "papermill": {
     "duration": 0.552873,
     "end_time": "2023-04-27T02:44:32.434625",
     "exception": false,
     "start_time": "2023-04-27T02:44:31.881752",
     "status": "completed"
    },
    "tags": []
   },
   "outputs": [
    {
     "data": {
      "image/png": "[encoded data removed]",
      "text/plain": [
       "<Figure size 1500x300 with 3 Axes>"
      ]
     },
     "metadata": {},
     "output_type": "display_data"
    }
   ],
   "source": [
    "furniture_data.hist(bins=5, layout=(1,3), figsize=(15,3))\n",
    "plt.show()"
   ]
  },
  {
   "cell_type": "markdown",
   "id": "90a41b29",
   "metadata": {
    "_cell_guid": "c8897fb6-f966-4459-bd71-b39f22b82c33",
    "_uuid": "fefd7069-ed2c-439f-adbe-3a9a15859038",
    "papermill": {
     "duration": 0.014479,
     "end_time": "2023-04-27T02:44:32.464305",
     "exception": false,
     "start_time": "2023-04-27T02:44:32.449826",
     "status": "completed"
    },
    "tags": []
   },
   "source": [
    "# Pre processing the data"
   ]
  },
  {
   "cell_type": "code",
   "execution_count": 9,
   "id": "849d11e1",
   "metadata": {
    "_cell_guid": "54139a63-637b-450b-8ac0-157fc9617232",
    "_uuid": "b0e59b24-60c6-41b4-809c-c408e93dcd52",
    "collapsed": false,
    "execution": {
     "iopub.execute_input": "2023-04-27T02:44:32.497995Z",
     "iopub.status.busy": "2023-04-27T02:44:32.497506Z",
     "iopub.status.idle": "2023-04-27T02:44:32.503568Z",
     "shell.execute_reply": "2023-04-27T02:44:32.502273Z"
    },
    "jupyter": {
     "outputs_hidden": false
    },
    "papermill": {
     "duration": 0.02634,
     "end_time": "2023-04-27T02:44:32.506004",
     "exception": false,
     "start_time": "2023-04-27T02:44:32.479664",
     "status": "completed"
    },
    "tags": []
   },
   "outputs": [],
   "source": [
    "furniture_copy = furniture_data.copy()"
   ]
  },
  {
   "cell_type": "code",
   "execution_count": 10,
   "id": "9ab980f0",
   "metadata": {
    "_cell_guid": "81fcfecc-8d86-43ec-b012-150fd309eed8",
    "_uuid": "f9266802-66c6-4b42-a6cd-5212bd841edc",
    "collapsed": false,
    "execution": {
     "iopub.execute_input": "2023-04-27T02:44:32.538764Z",
     "iopub.status.busy": "2023-04-27T02:44:32.538352Z",
     "iopub.status.idle": "2023-04-27T02:44:34.159049Z",
     "shell.execute_reply": "2023-04-27T02:44:34.157676Z"
    },
    "jupyter": {
     "outputs_hidden": false
    },
    "papermill": {
     "duration": 1.640871,
     "end_time": "2023-04-27T02:44:34.162434",
     "exception": false,
     "start_time": "2023-04-27T02:44:32.521563",
     "status": "completed"
    },
    "tags": []
   },
   "outputs": [],
   "source": [
    "from category_encoders import TargetEncoder\n",
    "from sklearn.preprocessing import LabelEncoder"
   ]
  },
  {
   "cell_type": "code",
   "execution_count": 11,
   "id": "07287715",
   "metadata": {
    "_cell_guid": "981a8222-be63-4442-98ae-bb4fca47ba4c",
    "_uuid": "240b9668-5bbb-42a6-876e-50bc4066f28b",
    "collapsed": false,
    "execution": {
     "iopub.execute_input": "2023-04-27T02:44:34.196430Z",
     "iopub.status.busy": "2023-04-27T02:44:34.195231Z",
     "iopub.status.idle": "2023-04-27T02:44:34.204993Z",
     "shell.execute_reply": "2023-04-27T02:44:34.203644Z"
    },
    "jupyter": {
     "outputs_hidden": false
    },
    "papermill": {
     "duration": 0.02963,
     "end_time": "2023-04-27T02:44:34.207594",
     "exception": false,
     "start_time": "2023-04-27T02:44:34.177964",
     "status": "completed"
    },
    "tags": []
   },
   "outputs": [],
   "source": [
    "def data_cleaning(furniture_copy):\n",
    "    furniture_copy.dropna(subset=[\"price\"], inplace=True)\n",
    "    furniture_copy.drop(labels=\"url\", axis=1, inplace=True)\n",
    "    rate_col = furniture_copy[furniture_copy.rate != 0]\n",
    "    avg_rate = rate_col[\"rate\"].mean()\n",
    "    furniture_copy[\"rate\"] = furniture_copy[\"rate\"].replace([0], avg_rate)\n",
    "    furniture_copy[\"sale\"] = furniture_copy[\"sale\"].str.replace('\\D', '', regex=True)\n",
    "    furniture_copy[\"sale\"] = furniture_copy[\"sale\"].astype(int)\n",
    "    \n",
    "    # categorcal data\n",
    "    attribs_cat = [\"furniture\", \"type\"]\n",
    "    encoder=TargetEncoder(cols=attribs_cat)\n",
    "    df = encoder.fit_transform(furniture_copy[attribs_cat],furniture_copy[\"price\"])\n",
    "    furniture_copy[\"furniture\"] = df[\"furniture\"]\n",
    "    furniture_copy[\"type\"] = df[\"type\"]\n",
    "    \n",
    "    return furniture_copy"
   ]
  },
  {
   "cell_type": "code",
   "execution_count": 12,
   "id": "58ffb4dd",
   "metadata": {
    "_cell_guid": "c83017a3-c43a-49a9-b550-3dbe7f58a21d",
    "_uuid": "a10ff0ad-4436-437d-abb0-bcfb37a8f105",
    "collapsed": false,
    "execution": {
     "iopub.execute_input": "2023-04-27T02:44:34.241238Z",
     "iopub.status.busy": "2023-04-27T02:44:34.240747Z",
     "iopub.status.idle": "2023-04-27T02:44:34.292403Z",
     "shell.execute_reply": "2023-04-27T02:44:34.291093Z"
    },
    "jupyter": {
     "outputs_hidden": false
    },
    "papermill": {
     "duration": 0.072217,
     "end_time": "2023-04-27T02:44:34.295571",
     "exception": false,
     "start_time": "2023-04-27T02:44:34.223354",
     "status": "completed"
    },
    "tags": []
   },
   "outputs": [],
   "source": [
    "furniture_copy = data_cleaning(furniture_copy)"
   ]
  },
  {
   "cell_type": "code",
   "execution_count": 13,
   "id": "a97ac35c",
   "metadata": {
    "_cell_guid": "1beae569-4544-4e80-9fa4-f23663d73112",
    "_uuid": "b3584b8b-1fb9-4b32-a6df-7f5a1384bdbc",
    "collapsed": false,
    "execution": {
     "iopub.execute_input": "2023-04-27T02:44:34.329013Z",
     "iopub.status.busy": "2023-04-27T02:44:34.328561Z",
     "iopub.status.idle": "2023-04-27T02:44:34.342564Z",
     "shell.execute_reply": "2023-04-27T02:44:34.341123Z"
    },
    "jupyter": {
     "outputs_hidden": false
    },
    "papermill": {
     "duration": 0.033943,
     "end_time": "2023-04-27T02:44:34.345182",
     "exception": false,
     "start_time": "2023-04-27T02:44:34.311239",
     "status": "completed"
    },
    "tags": []
   },
   "outputs": [
    {
     "name": "stdout",
     "output_type": "stream",
     "text": [
      "<class 'pandas.core.frame.DataFrame'>\n",
      "Int64Index: 1961 entries, 0 to 1999\n",
      "Data columns (total 6 columns):\n",
      " #   Column     Non-Null Count  Dtype  \n",
      "---  ------     --------------  -----  \n",
      " 0   furniture  1961 non-null   float64\n",
      " 1   type       1961 non-null   float64\n",
      " 2   rate       1961 non-null   float64\n",
      " 3   delivery   1961 non-null   float64\n",
      " 4   sale       1961 non-null   int64  \n",
      " 5   price      1961 non-null   float64\n",
      "dtypes: float64(5), int64(1)\n",
      "memory usage: 171.8 KB\n"
     ]
    }
   ],
   "source": [
    "furniture_copy.info()"
   ]
  },
  {
   "cell_type": "markdown",
   "id": "13bad168",
   "metadata": {
    "_cell_guid": "32d07397-66f2-4e6f-9c39-edd1849ba40a",
    "_uuid": "f8bb57c2-ceb3-4b8a-afe5-7a4be58dc18d",
    "papermill": {
     "duration": 0.015447,
     "end_time": "2023-04-27T02:44:34.376949",
     "exception": false,
     "start_time": "2023-04-27T02:44:34.361502",
     "status": "completed"
    },
    "tags": []
   },
   "source": [
    "# Looking for co-relations"
   ]
  },
  {
   "cell_type": "code",
   "execution_count": 14,
   "id": "ff1fe0ef",
   "metadata": {
    "_cell_guid": "326205a6-0ea4-4b7b-96b2-92167f58e5ef",
    "_uuid": "3b1afabd-74a1-46cc-8b40-b05bb0c694c0",
    "collapsed": false,
    "execution": {
     "iopub.execute_input": "2023-04-27T02:44:34.410916Z",
     "iopub.status.busy": "2023-04-27T02:44:34.409905Z",
     "iopub.status.idle": "2023-04-27T02:44:34.417952Z",
     "shell.execute_reply": "2023-04-27T02:44:34.417095Z"
    },
    "jupyter": {
     "outputs_hidden": false
    },
    "papermill": {
     "duration": 0.02761,
     "end_time": "2023-04-27T02:44:34.420275",
     "exception": false,
     "start_time": "2023-04-27T02:44:34.392665",
     "status": "completed"
    },
    "tags": []
   },
   "outputs": [],
   "source": [
    "corr_mtrix = furniture_copy.corr()"
   ]
  },
  {
   "cell_type": "code",
   "execution_count": 15,
   "id": "ffaa7fe1",
   "metadata": {
    "_cell_guid": "08353235-b610-439d-9d86-59d6e3cce8d7",
    "_uuid": "3218ee0c-28cd-4943-9abb-5e905a3b9411",
    "collapsed": false,
    "execution": {
     "iopub.execute_input": "2023-04-27T02:44:34.453450Z",
     "iopub.status.busy": "2023-04-27T02:44:34.453027Z",
     "iopub.status.idle": "2023-04-27T02:44:34.461754Z",
     "shell.execute_reply": "2023-04-27T02:44:34.460920Z"
    },
    "jupyter": {
     "outputs_hidden": false
    },
    "papermill": {
     "duration": 0.027973,
     "end_time": "2023-04-27T02:44:34.463900",
     "exception": false,
     "start_time": "2023-04-27T02:44:34.435927",
     "status": "completed"
    },
    "tags": []
   },
   "outputs": [
    {
     "data": {
      "text/plain": [
       "price        1.000000\n",
       "furniture    0.881475\n",
       "type         0.635377\n",
       "delivery     0.101149\n",
       "rate        -0.021114\n",
       "sale        -0.178771\n",
       "Name: price, dtype: float64"
      ]
     },
     "execution_count": 15,
     "metadata": {},
     "output_type": "execute_result"
    }
   ],
   "source": [
    "corr_mtrix[\"price\"].sort_values(ascending=False)"
   ]
  },
  {
   "cell_type": "markdown",
   "id": "97ca183e",
   "metadata": {
    "_cell_guid": "449820a8-ba03-49cb-ad3e-5ee6155b70d8",
    "_uuid": "7777bba9-02ad-4696-8440-62d4fcd811e1",
    "papermill": {
     "duration": 0.015537,
     "end_time": "2023-04-27T02:44:34.494909",
     "exception": false,
     "start_time": "2023-04-27T02:44:34.479372",
     "status": "completed"
    },
    "tags": []
   },
   "source": [
    "**-> first 3 rows are giving higher co-relation because<br>\n",
    "-> they are calculated from the price feature, so we<br>\n",
    "-> need to avoid this relation**<br>"
   ]
  },
  {
   "cell_type": "markdown",
   "id": "b493b33c",
   "metadata": {
    "_cell_guid": "71799af1-8b59-4ee6-9656-799a2c29cf0f",
    "_uuid": "c29daf61-8391-4a58-921e-9cdacdbd72eb",
    "papermill": {
     "duration": 0.0151,
     "end_time": "2023-04-27T02:44:34.525632",
     "exception": false,
     "start_time": "2023-04-27T02:44:34.510532",
     "status": "completed"
    },
    "tags": []
   },
   "source": [
    "# Plotting the co-relations"
   ]
  },
  {
   "cell_type": "code",
   "execution_count": 16,
   "id": "a38d6685",
   "metadata": {
    "_cell_guid": "ab3c29ec-2f0b-43ea-9517-ae14ede89deb",
    "_uuid": "c98bdae9-d12d-43bb-ba5e-d32946cb0408",
    "collapsed": false,
    "execution": {
     "iopub.execute_input": "2023-04-27T02:44:34.558689Z",
     "iopub.status.busy": "2023-04-27T02:44:34.558278Z",
     "iopub.status.idle": "2023-04-27T02:44:34.563397Z",
     "shell.execute_reply": "2023-04-27T02:44:34.562114Z"
    },
    "jupyter": {
     "outputs_hidden": false
    },
    "papermill": {
     "duration": 0.024972,
     "end_time": "2023-04-27T02:44:34.566142",
     "exception": false,
     "start_time": "2023-04-27T02:44:34.541170",
     "status": "completed"
    },
    "tags": []
   },
   "outputs": [],
   "source": [
    "from pandas.plotting import scatter_matrix"
   ]
  },
  {
   "cell_type": "code",
   "execution_count": 17,
   "id": "7042d3c2",
   "metadata": {
    "_cell_guid": "a2e72f57-7c07-4a2a-baca-5ea937f898b4",
    "_uuid": "024f1df7-e1f9-4403-8717-b10c0ff2426e",
    "collapsed": false,
    "execution": {
     "iopub.execute_input": "2023-04-27T02:44:34.600044Z",
     "iopub.status.busy": "2023-04-27T02:44:34.599578Z",
     "iopub.status.idle": "2023-04-27T02:44:36.208840Z",
     "shell.execute_reply": "2023-04-27T02:44:36.207313Z"
    },
    "jupyter": {
     "outputs_hidden": false
    },
    "papermill": {
     "duration": 1.631928,
     "end_time": "2023-04-27T02:44:36.213955",
     "exception": false,
     "start_time": "2023-04-27T02:44:34.582027",
     "status": "completed"
    },
    "tags": []
   },
   "outputs": [
    {
     "data": {
      "text/plain": [
       "array([[<AxesSubplot:xlabel='price', ylabel='price'>,\n",
       "        <AxesSubplot:xlabel='delivery', ylabel='price'>,\n",
       "        <AxesSubplot:xlabel='rate', ylabel='price'>,\n",
       "        <AxesSubplot:xlabel='sale', ylabel='price'>],\n",
       "       [<AxesSubplot:xlabel='price', ylabel='delivery'>,\n",
       "        <AxesSubplot:xlabel='delivery', ylabel='delivery'>,\n",
       "        <AxesSubplot:xlabel='rate', ylabel='delivery'>,\n",
       "        <AxesSubplot:xlabel='sale', ylabel='delivery'>],\n",
       "       [<AxesSubplot:xlabel='price', ylabel='rate'>,\n",
       "        <AxesSubplot:xlabel='delivery', ylabel='rate'>,\n",
       "        <AxesSubplot:xlabel='rate', ylabel='rate'>,\n",
       "        <AxesSubplot:xlabel='sale', ylabel='rate'>],\n",
       "       [<AxesSubplot:xlabel='price', ylabel='sale'>,\n",
       "        <AxesSubplot:xlabel='delivery', ylabel='sale'>,\n",
       "        <AxesSubplot:xlabel='rate', ylabel='sale'>,\n",
       "        <AxesSubplot:xlabel='sale', ylabel='sale'>]], dtype=object)"
      ]
     },
     "execution_count": 17,
     "metadata": {},
     "output_type": "execute_result"
    },
    {
     "data": {
      "image/png": "[encoded data removed]",
      "text/plain": [
       "<Figure size 1200x800 with 16 Axes>"
      ]
     },
     "metadata": {},
     "output_type": "display_data"
    }
   ],
   "source": [
    "attributes = [\"price\", \"delivery\", \"rate\", \"sale\"]\n",
    "scatter_matrix(furniture_copy[attributes], figsize=(12,8))"
   ]
  },
  {
   "cell_type": "code",
   "execution_count": 18,
   "id": "63bff0e9",
   "metadata": {
    "_cell_guid": "9dae2196-03be-43fd-bb4f-76e0249db6d2",
    "_uuid": "ee3c5ce2-e11f-41d9-ac2c-5246253bdbed",
    "collapsed": false,
    "execution": {
     "iopub.execute_input": "2023-04-27T02:44:36.253829Z",
     "iopub.status.busy": "2023-04-27T02:44:36.253358Z",
     "iopub.status.idle": "2023-04-27T02:44:36.650246Z",
     "shell.execute_reply": "2023-04-27T02:44:36.648822Z"
    },
    "jupyter": {
     "outputs_hidden": false
    },
    "papermill": {
     "duration": 0.42042,
     "end_time": "2023-04-27T02:44:36.653241",
     "exception": false,
     "start_time": "2023-04-27T02:44:36.232821",
     "status": "completed"
    },
    "tags": []
   },
   "outputs": [
    {
     "data": {
      "image/png": "[encoded data removed]",
      "text/plain": [
       "<Figure size 1200x500 with 2 Axes>"
      ]
     },
     "metadata": {},
     "output_type": "display_data"
    }
   ],
   "source": [
    "furniture_copy.plot(kind=\"scatter\", x=\"sale\", y=\"price\", alpha=1,\n",
    "                 s=furniture_copy[\"delivery\"]/5, label=\"delivery\", figsize=(12,5),\n",
    "                 c=\"rate\", cmap=\"jet\", colorbar=True)\n",
    "plt.legend()\n",
    "plt.show()"
   ]
  },
  {
   "cell_type": "markdown",
   "id": "e247e8fa",
   "metadata": {
    "_cell_guid": "c60c30ee-8262-4e53-846b-ba6bba77f32c",
    "_uuid": "810e8b4f-60b4-42c0-bbb8-ae22424ee249",
    "papermill": {
     "duration": 0.020841,
     "end_time": "2023-04-27T02:44:36.693504",
     "exception": false,
     "start_time": "2023-04-27T02:44:36.672663",
     "status": "completed"
    },
    "tags": []
   },
   "source": [
    "# Scaling the data"
   ]
  },
  {
   "cell_type": "code",
   "execution_count": 19,
   "id": "dced38ef",
   "metadata": {
    "_cell_guid": "a312de38-9b59-43f5-8692-2ca51c3cb839",
    "_uuid": "5499dcb6-b030-4d64-b77d-0fe0f53886d3",
    "collapsed": false,
    "execution": {
     "iopub.execute_input": "2023-04-27T02:44:36.735542Z",
     "iopub.status.busy": "2023-04-27T02:44:36.734846Z",
     "iopub.status.idle": "2023-04-27T02:44:36.754047Z",
     "shell.execute_reply": "2023-04-27T02:44:36.752682Z"
    },
    "jupyter": {
     "outputs_hidden": false
    },
    "papermill": {
     "duration": 0.043498,
     "end_time": "2023-04-27T02:44:36.756740",
     "exception": false,
     "start_time": "2023-04-27T02:44:36.713242",
     "status": "completed"
    },
    "tags": []
   },
   "outputs": [
    {
     "data": {
      "text/html": [
       "<div>\n",
       "<style scoped>\n",
       "    .dataframe tbody tr th:only-of-type {\n",
       "        vertical-align: middle;\n",
       "    }\n",
       "\n",
       "    .dataframe tbody tr th {\n",
       "        vertical-align: top;\n",
       "    }\n",
       "\n",
       "    .dataframe thead th {\n",
       "        text-align: right;\n",
       "    }\n",
       "</style>\n",
       "<table border=\"1\" class=\"dataframe\">\n",
       "  <thead>\n",
       "    <tr style=\"text-align: right;\">\n",
       "      <th></th>\n",
       "      <th>furniture</th>\n",
       "      <th>type</th>\n",
       "      <th>rate</th>\n",
       "      <th>delivery</th>\n",
       "      <th>sale</th>\n",
       "    </tr>\n",
       "  </thead>\n",
       "  <tbody>\n",
       "    <tr>\n",
       "      <th>0</th>\n",
       "      <td>2574.128948</td>\n",
       "      <td>2847.022840</td>\n",
       "      <td>3.300000</td>\n",
       "      <td>172.14</td>\n",
       "      <td>72</td>\n",
       "    </tr>\n",
       "    <tr>\n",
       "      <th>1</th>\n",
       "      <td>2574.128948</td>\n",
       "      <td>2699.205224</td>\n",
       "      <td>3.972703</td>\n",
       "      <td>172.14</td>\n",
       "      <td>54</td>\n",
       "    </tr>\n",
       "    <tr>\n",
       "      <th>2</th>\n",
       "      <td>2386.826865</td>\n",
       "      <td>2699.205224</td>\n",
       "      <td>3.972703</td>\n",
       "      <td>172.14</td>\n",
       "      <td>18</td>\n",
       "    </tr>\n",
       "    <tr>\n",
       "      <th>3</th>\n",
       "      <td>2377.337947</td>\n",
       "      <td>2699.205224</td>\n",
       "      <td>3.972703</td>\n",
       "      <td>172.14</td>\n",
       "      <td>58</td>\n",
       "    </tr>\n",
       "    <tr>\n",
       "      <th>4</th>\n",
       "      <td>2656.695707</td>\n",
       "      <td>2699.205224</td>\n",
       "      <td>5.000000</td>\n",
       "      <td>52.44</td>\n",
       "      <td>54</td>\n",
       "    </tr>\n",
       "    <tr>\n",
       "      <th>...</th>\n",
       "      <td>...</td>\n",
       "      <td>...</td>\n",
       "      <td>...</td>\n",
       "      <td>...</td>\n",
       "      <td>...</td>\n",
       "    </tr>\n",
       "    <tr>\n",
       "      <th>1995</th>\n",
       "      <td>2744.085154</td>\n",
       "      <td>2744.085154</td>\n",
       "      <td>3.972703</td>\n",
       "      <td>656.28</td>\n",
       "      <td>0</td>\n",
       "    </tr>\n",
       "    <tr>\n",
       "      <th>1996</th>\n",
       "      <td>4021.490155</td>\n",
       "      <td>7944.135893</td>\n",
       "      <td>3.972703</td>\n",
       "      <td>172.14</td>\n",
       "      <td>0</td>\n",
       "    </tr>\n",
       "    <tr>\n",
       "      <th>1997</th>\n",
       "      <td>2575.590360</td>\n",
       "      <td>1624.668981</td>\n",
       "      <td>3.972703</td>\n",
       "      <td>52.44</td>\n",
       "      <td>0</td>\n",
       "    </tr>\n",
       "    <tr>\n",
       "      <th>1998</th>\n",
       "      <td>4511.148141</td>\n",
       "      <td>4928.389499</td>\n",
       "      <td>3.972703</td>\n",
       "      <td>172.14</td>\n",
       "      <td>9</td>\n",
       "    </tr>\n",
       "    <tr>\n",
       "      <th>1999</th>\n",
       "      <td>4533.050345</td>\n",
       "      <td>4928.389499</td>\n",
       "      <td>3.972703</td>\n",
       "      <td>172.14</td>\n",
       "      <td>10</td>\n",
       "    </tr>\n",
       "  </tbody>\n",
       "</table>\n",
       "<p>1961 rows × 5 columns</p>\n",
       "</div>"
      ],
      "text/plain": [
       "        furniture         type      rate  delivery  sale\n",
       "0     2574.128948  2847.022840  3.300000    172.14    72\n",
       "1     2574.128948  2699.205224  3.972703    172.14    54\n",
       "2     2386.826865  2699.205224  3.972703    172.14    18\n",
       "3     2377.337947  2699.205224  3.972703    172.14    58\n",
       "4     2656.695707  2699.205224  5.000000     52.44    54\n",
       "...           ...          ...       ...       ...   ...\n",
       "1995  2744.085154  2744.085154  3.972703    656.28     0\n",
       "1996  4021.490155  7944.135893  3.972703    172.14     0\n",
       "1997  2575.590360  1624.668981  3.972703     52.44     0\n",
       "1998  4511.148141  4928.389499  3.972703    172.14     9\n",
       "1999  4533.050345  4928.389499  3.972703    172.14    10\n",
       "\n",
       "[1961 rows x 5 columns]"
      ]
     },
     "execution_count": 19,
     "metadata": {},
     "output_type": "execute_result"
    }
   ],
   "source": [
    "features = furniture_copy.drop(labels=\"price\", axis=1)\n",
    "features"
   ]
  },
  {
   "cell_type": "code",
   "execution_count": 20,
   "id": "41fe215e",
   "metadata": {
    "_cell_guid": "db44de57-8c05-4b9b-845a-d97c50aa7ca7",
    "_uuid": "0e2c14cd-99c4-473a-9e24-d64b2402f75c",
    "collapsed": false,
    "execution": {
     "iopub.execute_input": "2023-04-27T02:44:36.798513Z",
     "iopub.status.busy": "2023-04-27T02:44:36.798008Z",
     "iopub.status.idle": "2023-04-27T02:44:36.804101Z",
     "shell.execute_reply": "2023-04-27T02:44:36.802575Z"
    },
    "jupyter": {
     "outputs_hidden": false
    },
    "papermill": {
     "duration": 0.030356,
     "end_time": "2023-04-27T02:44:36.806838",
     "exception": false,
     "start_time": "2023-04-27T02:44:36.776482",
     "status": "completed"
    },
    "tags": []
   },
   "outputs": [],
   "source": [
    "from sklearn.preprocessing import MinMaxScaler"
   ]
  },
  {
   "cell_type": "code",
   "execution_count": 21,
   "id": "f787bac1",
   "metadata": {
    "_cell_guid": "150ca75e-61dc-48dd-a697-c5879c4e4779",
    "_uuid": "f0b1dc98-6c37-41b7-a13b-c4dbf6ebc245",
    "collapsed": false,
    "execution": {
     "iopub.execute_input": "2023-04-27T02:44:36.849597Z",
     "iopub.status.busy": "2023-04-27T02:44:36.849121Z",
     "iopub.status.idle": "2023-04-27T02:44:36.859437Z",
     "shell.execute_reply": "2023-04-27T02:44:36.858470Z"
    },
    "jupyter": {
     "outputs_hidden": false
    },
    "papermill": {
     "duration": 0.034774,
     "end_time": "2023-04-27T02:44:36.861704",
     "exception": false,
     "start_time": "2023-04-27T02:44:36.826930",
     "status": "completed"
    },
    "tags": []
   },
   "outputs": [],
   "source": [
    "scalar = MinMaxScaler()\n",
    "features = scalar.fit_transform(features)"
   ]
  },
  {
   "cell_type": "code",
   "execution_count": 22,
   "id": "6ff6a17e",
   "metadata": {
    "_cell_guid": "1a26ac0c-177f-4337-a11b-ab71da6ef4da",
    "_uuid": "31e4f085-acae-4c22-9377-a337758d1619",
    "collapsed": false,
    "execution": {
     "iopub.execute_input": "2023-04-27T02:44:36.903813Z",
     "iopub.status.busy": "2023-04-27T02:44:36.902592Z",
     "iopub.status.idle": "2023-04-27T02:44:36.911506Z",
     "shell.execute_reply": "2023-04-27T02:44:36.910039Z"
    },
    "jupyter": {
     "outputs_hidden": false
    },
    "papermill": {
     "duration": 0.032672,
     "end_time": "2023-04-27T02:44:36.914227",
     "exception": false,
     "start_time": "2023-04-27T02:44:36.881555",
     "status": "completed"
    },
    "tags": []
   },
   "outputs": [
    {
     "data": {
      "text/plain": [
       "array([0.02917426, 0.20253939, 0.74317568, 0.06723855, 0.6       ])"
      ]
     },
     "execution_count": 22,
     "metadata": {},
     "output_type": "execute_result"
    }
   ],
   "source": [
    "features[1]"
   ]
  },
  {
   "cell_type": "markdown",
   "id": "983ab814",
   "metadata": {
    "_cell_guid": "8a3c4e96-b2ff-4d1a-be30-24cf885f1a49",
    "_uuid": "c186bded-f2fc-4bc2-a793-375e3e3d9b9e",
    "papermill": {
     "duration": 0.019797,
     "end_time": "2023-04-27T02:44:36.953568",
     "exception": false,
     "start_time": "2023-04-27T02:44:36.933771",
     "status": "completed"
    },
    "tags": []
   },
   "source": [
    "# Spliting the data into train test split"
   ]
  },
  {
   "cell_type": "code",
   "execution_count": 23,
   "id": "5baef43e",
   "metadata": {
    "_cell_guid": "74451f5e-e136-438b-ad3d-120f5dd7a963",
    "_uuid": "a470a97b-e99b-461e-a0c3-e95d05021859",
    "collapsed": false,
    "execution": {
     "iopub.execute_input": "2023-04-27T02:44:36.995645Z",
     "iopub.status.busy": "2023-04-27T02:44:36.995232Z",
     "iopub.status.idle": "2023-04-27T02:44:37.074388Z",
     "shell.execute_reply": "2023-04-27T02:44:37.072923Z"
    },
    "jupyter": {
     "outputs_hidden": false
    },
    "papermill": {
     "duration": 0.104153,
     "end_time": "2023-04-27T02:44:37.077738",
     "exception": false,
     "start_time": "2023-04-27T02:44:36.973585",
     "status": "completed"
    },
    "tags": []
   },
   "outputs": [],
   "source": [
    "from sklearn.model_selection import train_test_split\n",
    "X_train, X_test, y_train, y_test = train_test_split(features, furniture_copy[\"price\"], test_size=0.2, random_state=42)"
   ]
  },
  {
   "cell_type": "markdown",
   "id": "c652c012",
   "metadata": {
    "_cell_guid": "fdb0ebb7-725c-46d9-a056-c58e0e6932bd",
    "_uuid": "b35e24a5-5f8d-4e0c-ac8e-ec05bc74be39",
    "papermill": {
     "duration": 0.019429,
     "end_time": "2023-04-27T02:44:37.117233",
     "exception": false,
     "start_time": "2023-04-27T02:44:37.097804",
     "status": "completed"
    },
    "tags": []
   },
   "source": [
    "# Select and train a model"
   ]
  },
  {
   "cell_type": "code",
   "execution_count": 24,
   "id": "21c48226",
   "metadata": {
    "_cell_guid": "79a25e8c-1e03-4646-8fcc-5783ff4b7172",
    "_uuid": "44d2398f-86c6-4c5e-a82f-28f45fae9471",
    "collapsed": false,
    "execution": {
     "iopub.execute_input": "2023-04-27T02:44:37.159555Z",
     "iopub.status.busy": "2023-04-27T02:44:37.159069Z",
     "iopub.status.idle": "2023-04-27T02:44:37.165625Z",
     "shell.execute_reply": "2023-04-27T02:44:37.164085Z"
    },
    "jupyter": {
     "outputs_hidden": false
    },
    "papermill": {
     "duration": 0.031274,
     "end_time": "2023-04-27T02:44:37.168447",
     "exception": false,
     "start_time": "2023-04-27T02:44:37.137173",
     "status": "completed"
    },
    "tags": []
   },
   "outputs": [],
   "source": [
    "def display_scores(scores):\n",
    "    print(\"Scores: \", scores)\n",
    "    print(\"Mean: \", scores.mean())\n",
    "    print(\"Standard deviation: \", scores.std())"
   ]
  },
  {
   "cell_type": "code",
   "execution_count": 25,
   "id": "298ac08c",
   "metadata": {
    "_cell_guid": "8c0d15ba-7ef7-4c89-ac00-f71d4cbb1840",
    "_uuid": "3ce49385-3770-4f19-8717-0f4d79ee94cb",
    "collapsed": false,
    "execution": {
     "iopub.execute_input": "2023-04-27T02:44:37.210997Z",
     "iopub.status.busy": "2023-04-27T02:44:37.210540Z",
     "iopub.status.idle": "2023-04-27T02:44:37.599242Z",
     "shell.execute_reply": "2023-04-27T02:44:37.597900Z"
    },
    "jupyter": {
     "outputs_hidden": false
    },
    "papermill": {
     "duration": 0.413938,
     "end_time": "2023-04-27T02:44:37.602525",
     "exception": false,
     "start_time": "2023-04-27T02:44:37.188587",
     "status": "completed"
    },
    "tags": []
   },
   "outputs": [],
   "source": [
    "from sklearn.linear_model import LinearRegression\n",
    "from sklearn.metrics import mean_squared_error, r2_score\n",
    "from sklearn.tree import DecisionTreeRegressor\n",
    "from sklearn.model_selection import cross_val_score\n",
    "from sklearn.ensemble import RandomForestRegressor"
   ]
  },
  {
   "cell_type": "code",
   "execution_count": 26,
   "id": "4b841f6f",
   "metadata": {
    "_cell_guid": "082182d9-bc54-44f8-91dc-d6ff70fc8797",
    "_uuid": "263f4a15-665a-49cd-a065-3a3a46d166d1",
    "collapsed": false,
    "execution": {
     "iopub.execute_input": "2023-04-27T02:44:37.645088Z",
     "iopub.status.busy": "2023-04-27T02:44:37.644621Z",
     "iopub.status.idle": "2023-04-27T02:44:37.650088Z",
     "shell.execute_reply": "2023-04-27T02:44:37.649120Z"
    },
    "jupyter": {
     "outputs_hidden": false
    },
    "papermill": {
     "duration": 0.02936,
     "end_time": "2023-04-27T02:44:37.652406",
     "exception": false,
     "start_time": "2023-04-27T02:44:37.623046",
     "status": "completed"
    },
    "tags": []
   },
   "outputs": [],
   "source": [
    "lin_reg = LinearRegression()"
   ]
  },
  {
   "cell_type": "code",
   "execution_count": 27,
   "id": "afee43b3",
   "metadata": {
    "_cell_guid": "3bdb7ce1-024b-4ec5-9da0-328c4058548a",
    "_uuid": "c7c27961-53d5-4969-bc75-8bef25fd1ace",
    "collapsed": false,
    "execution": {
     "iopub.execute_input": "2023-04-27T02:44:37.693924Z",
     "iopub.status.busy": "2023-04-27T02:44:37.693451Z",
     "iopub.status.idle": "2023-04-27T02:44:37.718714Z",
     "shell.execute_reply": "2023-04-27T02:44:37.717321Z"
    },
    "jupyter": {
     "outputs_hidden": false
    },
    "papermill": {
     "duration": 0.049046,
     "end_time": "2023-04-27T02:44:37.721192",
     "exception": false,
     "start_time": "2023-04-27T02:44:37.672146",
     "status": "completed"
    },
    "tags": []
   },
   "outputs": [
    {
     "data": {
      "text/plain": [
       "1843.7853451162055"
      ]
     },
     "execution_count": 27,
     "metadata": {},
     "output_type": "execute_result"
    }
   ],
   "source": [
    "lin_reg.fit(X_train, y_train)\n",
    "furniture_pred = lin_reg.predict(X_test)\n",
    "lin_mse = mean_squared_error(y_test, furniture_pred)\n",
    "lin_rmse = np.sqrt(lin_mse)\n",
    "lin_rmse"
   ]
  },
  {
   "cell_type": "code",
   "execution_count": 28,
   "id": "c7421066",
   "metadata": {
    "_cell_guid": "66b37e95-7d81-45a0-bf43-980e31a2d0b7",
    "_uuid": "f231e0c3-8c71-4570-93c7-c894690dcf47",
    "collapsed": false,
    "execution": {
     "iopub.execute_input": "2023-04-27T02:44:37.764189Z",
     "iopub.status.busy": "2023-04-27T02:44:37.763689Z",
     "iopub.status.idle": "2023-04-27T02:44:37.792223Z",
     "shell.execute_reply": "2023-04-27T02:44:37.791290Z"
    },
    "jupyter": {
     "outputs_hidden": false
    },
    "papermill": {
     "duration": 0.053809,
     "end_time": "2023-04-27T02:44:37.794557",
     "exception": false,
     "start_time": "2023-04-27T02:44:37.740748",
     "status": "completed"
    },
    "tags": []
   },
   "outputs": [
    {
     "name": "stdout",
     "output_type": "stream",
     "text": [
      "Scores:  [2386.26819314 1520.63395956 1477.86749104 2200.26295646 2364.71604505\n",
      " 1644.99570867 1776.98127139 1747.26610643 1264.98129115 2252.24754094]\n",
      "Mean:  1863.6220563833926\n",
      "Standard deviation:  385.00286106378746\n"
     ]
    }
   ],
   "source": [
    "lin_scores = cross_val_score(lin_reg, X_train, y_train, scoring=\"neg_mean_squared_error\", cv=10)\n",
    "lin_rmse_scores = np.sqrt(-lin_scores)\n",
    "display_scores(lin_rmse_scores)"
   ]
  },
  {
   "cell_type": "code",
   "execution_count": 29,
   "id": "0b75a3a7",
   "metadata": {
    "_cell_guid": "afb89184-c717-4bff-84ad-86c85eb094f2",
    "_uuid": "4f44fb3c-294e-4acd-9ad6-cc8ef5ab34b4",
    "collapsed": false,
    "execution": {
     "iopub.execute_input": "2023-04-27T02:44:37.836199Z",
     "iopub.status.busy": "2023-04-27T02:44:37.835038Z",
     "iopub.status.idle": "2023-04-27T02:44:37.852434Z",
     "shell.execute_reply": "2023-04-27T02:44:37.851134Z"
    },
    "jupyter": {
     "outputs_hidden": false
    },
    "papermill": {
     "duration": 0.041168,
     "end_time": "2023-04-27T02:44:37.854989",
     "exception": false,
     "start_time": "2023-04-27T02:44:37.813821",
     "status": "completed"
    },
    "tags": []
   },
   "outputs": [
    {
     "data": {
      "text/plain": [
       "1843.7853451162055"
      ]
     },
     "execution_count": 29,
     "metadata": {},
     "output_type": "execute_result"
    }
   ],
   "source": [
    "tree = DecisionTreeRegressor()\n",
    "tree.fit(X_train, y_train)\n",
    "tree_mse = mean_squared_error(y_test, furniture_pred)\n",
    "tree_rmse = np.sqrt(tree_mse)\n",
    "tree_rmse"
   ]
  },
  {
   "cell_type": "code",
   "execution_count": 30,
   "id": "7383762c",
   "metadata": {
    "_cell_guid": "79e6ff31-4919-4bc9-910b-13c608c84099",
    "_uuid": "b5681a8d-4538-419e-8599-39f608ad6940",
    "collapsed": false,
    "execution": {
     "iopub.execute_input": "2023-04-27T02:44:37.896340Z",
     "iopub.status.busy": "2023-04-27T02:44:37.895545Z",
     "iopub.status.idle": "2023-04-27T02:44:37.968903Z",
     "shell.execute_reply": "2023-04-27T02:44:37.967262Z"
    },
    "jupyter": {
     "outputs_hidden": false
    },
    "papermill": {
     "duration": 0.097282,
     "end_time": "2023-04-27T02:44:37.971608",
     "exception": false,
     "start_time": "2023-04-27T02:44:37.874326",
     "status": "completed"
    },
    "tags": []
   },
   "outputs": [
    {
     "name": "stdout",
     "output_type": "stream",
     "text": [
      "Scores:  [2386.26819314 1520.63395956 1477.86749104 2200.26295646 2364.71604505\n",
      " 1644.99570867 1776.98127139 1747.26610643 1264.98129115 2252.24754094]\n",
      "Mean:  1863.6220563833926\n",
      "Standard deviation:  385.00286106378746\n"
     ]
    }
   ],
   "source": [
    "tree_scores = cross_val_score(tree, X_train, y_train, scoring=\"neg_mean_squared_error\", cv=10)\n",
    "tree_rmse_scores = np.sqrt(-lin_scores)\n",
    "display_scores(tree_rmse_scores)"
   ]
  },
  {
   "cell_type": "code",
   "execution_count": 31,
   "id": "305d2c51",
   "metadata": {
    "_cell_guid": "b1cbd78b-56a8-473c-b3f0-ec8bf5539941",
    "_uuid": "19a2a149-dea5-4643-b283-b84035210697",
    "collapsed": false,
    "execution": {
     "iopub.execute_input": "2023-04-27T02:44:38.013415Z",
     "iopub.status.busy": "2023-04-27T02:44:38.012395Z",
     "iopub.status.idle": "2023-04-27T02:44:38.465347Z",
     "shell.execute_reply": "2023-04-27T02:44:38.463832Z"
    },
    "jupyter": {
     "outputs_hidden": false
    },
    "papermill": {
     "duration": 0.477027,
     "end_time": "2023-04-27T02:44:38.468222",
     "exception": false,
     "start_time": "2023-04-27T02:44:37.991195",
     "status": "completed"
    },
    "tags": []
   },
   "outputs": [
    {
     "data": {
      "text/plain": [
       "RandomForestRegressor()"
      ]
     },
     "execution_count": 31,
     "metadata": {},
     "output_type": "execute_result"
    }
   ],
   "source": [
    "forest_reg = RandomForestRegressor()\n",
    "forest_reg.fit(X_train, y_train)"
   ]
  },
  {
   "cell_type": "code",
   "execution_count": 32,
   "id": "7f3a22dd",
   "metadata": {
    "_cell_guid": "e5123629-9741-4fdb-a8dd-472a0f08225b",
    "_uuid": "42fa6de6-0913-4675-b281-6698aa218bf3",
    "collapsed": false,
    "execution": {
     "iopub.execute_input": "2023-04-27T02:44:38.510590Z",
     "iopub.status.busy": "2023-04-27T02:44:38.509805Z",
     "iopub.status.idle": "2023-04-27T02:44:42.624274Z",
     "shell.execute_reply": "2023-04-27T02:44:42.622910Z"
    },
    "jupyter": {
     "outputs_hidden": false
    },
    "papermill": {
     "duration": 4.139175,
     "end_time": "2023-04-27T02:44:42.627038",
     "exception": false,
     "start_time": "2023-04-27T02:44:38.487863",
     "status": "completed"
    },
    "tags": []
   },
   "outputs": [
    {
     "name": "stdout",
     "output_type": "stream",
     "text": [
      "Scores:  [ 856.0638331   545.68633578  583.14368771  505.50595725 1391.46006689\n",
      "  851.58133041  918.01894729  570.29585801  394.45475325 2718.27022483]\n",
      "Mean:  933.4480994514236\n",
      "Standard deviation:  654.7437478806875\n"
     ]
    }
   ],
   "source": [
    "forest_scores = cross_val_score(forest_reg, X_train, y_train, scoring=\"neg_mean_squared_error\", cv=10)\n",
    "forest_rmse_scores = np.sqrt(-forest_scores)\n",
    "display_scores(forest_rmse_scores)"
   ]
  },
  {
   "cell_type": "code",
   "execution_count": 33,
   "id": "38ef4dbb",
   "metadata": {
    "_cell_guid": "659a07fb-856a-44c0-b4b9-c20e6eca5153",
    "_uuid": "a4ba85b0-8fdc-44be-b4c5-384ce52aa02c",
    "collapsed": false,
    "execution": {
     "iopub.execute_input": "2023-04-27T02:44:42.670771Z",
     "iopub.status.busy": "2023-04-27T02:44:42.670314Z",
     "iopub.status.idle": "2023-04-27T02:44:42.697981Z",
     "shell.execute_reply": "2023-04-27T02:44:42.696604Z"
    },
    "jupyter": {
     "outputs_hidden": false
    },
    "papermill": {
     "duration": 0.0534,
     "end_time": "2023-04-27T02:44:42.701193",
     "exception": false,
     "start_time": "2023-04-27T02:44:42.647793",
     "status": "completed"
    },
    "tags": []
   },
   "outputs": [],
   "source": [
    "forest_pred = forest_reg.predict(X_test)\n",
    "tree_pred = tree.predict(X_test)\n",
    "lin_pred = lin_reg.predict(X_test)"
   ]
  },
  {
   "cell_type": "code",
   "execution_count": 34,
   "id": "c682f1ee",
   "metadata": {
    "_cell_guid": "34879958-970b-4cb2-a00b-42b17889656c",
    "_uuid": "d42b24ba-a757-4796-8603-802e6aebcdf2",
    "collapsed": false,
    "execution": {
     "iopub.execute_input": "2023-04-27T02:44:42.745790Z",
     "iopub.status.busy": "2023-04-27T02:44:42.744776Z",
     "iopub.status.idle": "2023-04-27T02:44:42.754100Z",
     "shell.execute_reply": "2023-04-27T02:44:42.752445Z"
    },
    "jupyter": {
     "outputs_hidden": false
    },
    "papermill": {
     "duration": 0.035017,
     "end_time": "2023-04-27T02:44:42.757440",
     "exception": false,
     "start_time": "2023-04-27T02:44:42.722423",
     "status": "completed"
    },
    "tags": []
   },
   "outputs": [
    {
     "name": "stdout",
     "output_type": "stream",
     "text": [
      "r2 score for forest:  0.8934239562669518\n",
      "r2 score for tree:  0.8701514051375019\n",
      "r2 score for linear:  0.7493785687247865\n"
     ]
    }
   ],
   "source": [
    "print(\"r2 score for forest: \", + r2_score(forest_pred, y_test))\n",
    "print(\"r2 score for tree: \", + r2_score(tree_pred, y_test))\n",
    "print(\"r2 score for linear: \", + r2_score(lin_pred, y_test))"
   ]
  },
  {
   "cell_type": "markdown",
   "id": "34d3b17f",
   "metadata": {
    "_cell_guid": "d160ed04-9510-44f0-b4f2-95c1a8ea75b3",
    "_uuid": "a9518e79-2ad8-4b67-9d68-2f220778bbd9",
    "papermill": {
     "duration": 0.019541,
     "end_time": "2023-04-27T02:44:42.797200",
     "exception": false,
     "start_time": "2023-04-27T02:44:42.777659",
     "status": "completed"
    },
    "tags": []
   },
   "source": [
    "> **So, we can chooose \"RandomForestRegressor\" as our model**"
   ]
  },
  {
   "cell_type": "markdown",
   "id": "97ff3d82",
   "metadata": {
    "papermill": {
     "duration": 0.019805,
     "end_time": "2023-04-27T02:44:42.837002",
     "exception": false,
     "start_time": "2023-04-27T02:44:42.817197",
     "status": "completed"
    },
    "tags": []
   },
   "source": [
    "# Fine tune model"
   ]
  },
  {
   "cell_type": "code",
   "execution_count": 35,
   "id": "ceacd31a",
   "metadata": {
    "execution": {
     "iopub.execute_input": "2023-04-27T02:44:42.879911Z",
     "iopub.status.busy": "2023-04-27T02:44:42.879246Z",
     "iopub.status.idle": "2023-04-27T02:44:42.884719Z",
     "shell.execute_reply": "2023-04-27T02:44:42.883752Z"
    },
    "papermill": {
     "duration": 0.029762,
     "end_time": "2023-04-27T02:44:42.887485",
     "exception": false,
     "start_time": "2023-04-27T02:44:42.857723",
     "status": "completed"
    },
    "tags": []
   },
   "outputs": [],
   "source": [
    "# Grid Search\n",
    "from sklearn.model_selection import GridSearchCV"
   ]
  },
  {
   "cell_type": "code",
   "execution_count": 36,
   "id": "ae5823a2",
   "metadata": {
    "execution": {
     "iopub.execute_input": "2023-04-27T02:44:42.931557Z",
     "iopub.status.busy": "2023-04-27T02:44:42.931138Z",
     "iopub.status.idle": "2023-04-27T02:44:42.937602Z",
     "shell.execute_reply": "2023-04-27T02:44:42.936167Z"
    },
    "papermill": {
     "duration": 0.03161,
     "end_time": "2023-04-27T02:44:42.940155",
     "exception": false,
     "start_time": "2023-04-27T02:44:42.908545",
     "status": "completed"
    },
    "tags": []
   },
   "outputs": [],
   "source": [
    "param_grid = [\n",
    "    {'n_estimators': [3, 10, 30], 'max_features':[2, 4, 5]},\n",
    "    {'bootstrap':[False], 'n_estimators': [3, 10], 'max_features': [2, 3, 5]},\n",
    "]"
   ]
  },
  {
   "cell_type": "code",
   "execution_count": 37,
   "id": "ea513607",
   "metadata": {
    "execution": {
     "iopub.execute_input": "2023-04-27T02:44:42.983775Z",
     "iopub.status.busy": "2023-04-27T02:44:42.983381Z",
     "iopub.status.idle": "2023-04-27T02:44:42.988851Z",
     "shell.execute_reply": "2023-04-27T02:44:42.987397Z"
    },
    "papermill": {
     "duration": 0.0303,
     "end_time": "2023-04-27T02:44:42.991478",
     "exception": false,
     "start_time": "2023-04-27T02:44:42.961178",
     "status": "completed"
    },
    "tags": []
   },
   "outputs": [],
   "source": [
    "forest_reg = RandomForestRegressor()"
   ]
  },
  {
   "cell_type": "code",
   "execution_count": 38,
   "id": "4ad5dee2",
   "metadata": {
    "execution": {
     "iopub.execute_input": "2023-04-27T02:44:43.037041Z",
     "iopub.status.busy": "2023-04-27T02:44:43.036614Z",
     "iopub.status.idle": "2023-04-27T02:44:43.042361Z",
     "shell.execute_reply": "2023-04-27T02:44:43.041120Z"
    },
    "papermill": {
     "duration": 0.032002,
     "end_time": "2023-04-27T02:44:43.044932",
     "exception": false,
     "start_time": "2023-04-27T02:44:43.012930",
     "status": "completed"
    },
    "tags": []
   },
   "outputs": [],
   "source": [
    "grid_search = GridSearchCV(forest_reg, param_grid, cv=5,\n",
    "                          scoring='neg_mean_squared_error',\n",
    "                          return_train_score=True)"
   ]
  },
  {
   "cell_type": "code",
   "execution_count": 39,
   "id": "f3de1f70",
   "metadata": {
    "execution": {
     "iopub.execute_input": "2023-04-27T02:44:43.091010Z",
     "iopub.status.busy": "2023-04-27T02:44:43.090336Z",
     "iopub.status.idle": "2023-04-27T02:44:46.630195Z",
     "shell.execute_reply": "2023-04-27T02:44:46.628883Z"
    },
    "papermill": {
     "duration": 3.566902,
     "end_time": "2023-04-27T02:44:46.632816",
     "exception": false,
     "start_time": "2023-04-27T02:44:43.065914",
     "status": "completed"
    },
    "tags": []
   },
   "outputs": [
    {
     "data": {
      "text/plain": [
       "GridSearchCV(cv=5, estimator=RandomForestRegressor(),\n",
       "             param_grid=[{'max_features': [2, 4, 5],\n",
       "                          'n_estimators': [3, 10, 30]},\n",
       "                         {'bootstrap': [False], 'max_features': [2, 3, 5],\n",
       "                          'n_estimators': [3, 10]}],\n",
       "             return_train_score=True, scoring='neg_mean_squared_error')"
      ]
     },
     "execution_count": 39,
     "metadata": {},
     "output_type": "execute_result"
    }
   ],
   "source": [
    "grid_search.fit(X_train, y_train)"
   ]
  },
  {
   "cell_type": "code",
   "execution_count": 40,
   "id": "84660cd8",
   "metadata": {
    "execution": {
     "iopub.execute_input": "2023-04-27T02:44:46.676393Z",
     "iopub.status.busy": "2023-04-27T02:44:46.675405Z",
     "iopub.status.idle": "2023-04-27T02:44:46.683504Z",
     "shell.execute_reply": "2023-04-27T02:44:46.682313Z"
    },
    "papermill": {
     "duration": 0.032909,
     "end_time": "2023-04-27T02:44:46.686023",
     "exception": false,
     "start_time": "2023-04-27T02:44:46.653114",
     "status": "completed"
    },
    "tags": []
   },
   "outputs": [
    {
     "data": {
      "text/plain": [
       "{'max_features': 2, 'n_estimators': 30}"
      ]
     },
     "execution_count": 40,
     "metadata": {},
     "output_type": "execute_result"
    }
   ],
   "source": [
    "grid_search.best_params_"
   ]
  },
  {
   "cell_type": "code",
   "execution_count": 41,
   "id": "a0e6ef82",
   "metadata": {
    "execution": {
     "iopub.execute_input": "2023-04-27T02:44:46.728507Z",
     "iopub.status.busy": "2023-04-27T02:44:46.728089Z",
     "iopub.status.idle": "2023-04-27T02:44:46.733366Z",
     "shell.execute_reply": "2023-04-27T02:44:46.732068Z"
    },
    "papermill": {
     "duration": 0.029999,
     "end_time": "2023-04-27T02:44:46.736003",
     "exception": false,
     "start_time": "2023-04-27T02:44:46.706004",
     "status": "completed"
    },
    "tags": []
   },
   "outputs": [],
   "source": [
    "cvres = grid_search.cv_results_"
   ]
  },
  {
   "cell_type": "code",
   "execution_count": 42,
   "id": "346d54dc",
   "metadata": {
    "execution": {
     "iopub.execute_input": "2023-04-27T02:44:46.778432Z",
     "iopub.status.busy": "2023-04-27T02:44:46.778014Z",
     "iopub.status.idle": "2023-04-27T02:44:46.785250Z",
     "shell.execute_reply": "2023-04-27T02:44:46.783532Z"
    },
    "papermill": {
     "duration": 0.032413,
     "end_time": "2023-04-27T02:44:46.788399",
     "exception": false,
     "start_time": "2023-04-27T02:44:46.755986",
     "status": "completed"
    },
    "tags": []
   },
   "outputs": [
    {
     "name": "stdout",
     "output_type": "stream",
     "text": [
      "1390.4745483506724 {'max_features': 2, 'n_estimators': 3}\n",
      "1515.8691561505307 {'max_features': 2, 'n_estimators': 10}\n",
      "1039.798724676877 {'max_features': 2, 'n_estimators': 30}\n",
      "1222.454819878107 {'max_features': 4, 'n_estimators': 3}\n",
      "1258.4385013628735 {'max_features': 4, 'n_estimators': 10}\n",
      "1129.130557543253 {'max_features': 4, 'n_estimators': 30}\n",
      "1329.5511228089626 {'max_features': 5, 'n_estimators': 3}\n",
      "1190.6146297951345 {'max_features': 5, 'n_estimators': 10}\n",
      "1185.8677535053923 {'max_features': 5, 'n_estimators': 30}\n",
      "1270.7389597910337 {'bootstrap': False, 'max_features': 2, 'n_estimators': 3}\n",
      "1131.7555491893802 {'bootstrap': False, 'max_features': 2, 'n_estimators': 10}\n",
      "1220.0007327567596 {'bootstrap': False, 'max_features': 3, 'n_estimators': 3}\n",
      "1060.968188326164 {'bootstrap': False, 'max_features': 3, 'n_estimators': 10}\n",
      "1183.1135885084104 {'bootstrap': False, 'max_features': 5, 'n_estimators': 3}\n",
      "1191.237476426347 {'bootstrap': False, 'max_features': 5, 'n_estimators': 10}\n"
     ]
    }
   ],
   "source": [
    "for mean_score, params in zip(cvres[\"mean_test_score\"], cvres[\"params\"]):\n",
    "    print(np.sqrt(-mean_score), params)"
   ]
  },
  {
   "cell_type": "markdown",
   "id": "ffdab73c",
   "metadata": {
    "papermill": {
     "duration": 0.02033,
     "end_time": "2023-04-27T02:44:46.830412",
     "exception": false,
     "start_time": "2023-04-27T02:44:46.810082",
     "status": "completed"
    },
    "tags": []
   },
   "source": [
    "# Testing model"
   ]
  },
  {
   "cell_type": "code",
   "execution_count": 43,
   "id": "2eb61ed2",
   "metadata": {
    "execution": {
     "iopub.execute_input": "2023-04-27T02:44:46.874286Z",
     "iopub.status.busy": "2023-04-27T02:44:46.873809Z",
     "iopub.status.idle": "2023-04-27T02:44:46.879718Z",
     "shell.execute_reply": "2023-04-27T02:44:46.878337Z"
    },
    "papermill": {
     "duration": 0.031228,
     "end_time": "2023-04-27T02:44:46.882428",
     "exception": false,
     "start_time": "2023-04-27T02:44:46.851200",
     "status": "completed"
    },
    "tags": []
   },
   "outputs": [],
   "source": [
    "forest_reg = RandomForestRegressor(max_features=5, n_estimators=3)"
   ]
  },
  {
   "cell_type": "code",
   "execution_count": 44,
   "id": "d22c2705",
   "metadata": {
    "execution": {
     "iopub.execute_input": "2023-04-27T02:44:46.926725Z",
     "iopub.status.busy": "2023-04-27T02:44:46.926318Z",
     "iopub.status.idle": "2023-04-27T02:44:46.949538Z",
     "shell.execute_reply": "2023-04-27T02:44:46.948113Z"
    },
    "papermill": {
     "duration": 0.048804,
     "end_time": "2023-04-27T02:44:46.952376",
     "exception": false,
     "start_time": "2023-04-27T02:44:46.903572",
     "status": "completed"
    },
    "tags": []
   },
   "outputs": [
    {
     "data": {
      "text/plain": [
       "RandomForestRegressor(max_features=5, n_estimators=3)"
      ]
     },
     "execution_count": 44,
     "metadata": {},
     "output_type": "execute_result"
    }
   ],
   "source": [
    "forest_reg.fit(X_train, y_train)"
   ]
  },
  {
   "cell_type": "code",
   "execution_count": 45,
   "id": "3d8a6db8",
   "metadata": {
    "execution": {
     "iopub.execute_input": "2023-04-27T02:44:46.999386Z",
     "iopub.status.busy": "2023-04-27T02:44:46.998943Z",
     "iopub.status.idle": "2023-04-27T02:44:47.008990Z",
     "shell.execute_reply": "2023-04-27T02:44:47.007416Z"
    },
    "papermill": {
     "duration": 0.036789,
     "end_time": "2023-04-27T02:44:47.011823",
     "exception": false,
     "start_time": "2023-04-27T02:44:46.975034",
     "status": "completed"
    },
    "tags": []
   },
   "outputs": [
    {
     "name": "stdout",
     "output_type": "stream",
     "text": [
      "r2 score for forest:  0.9189117415729703\n"
     ]
    }
   ],
   "source": [
    "forest_pred = forest_reg.predict(X_test)\n",
    "print(\"r2 score for forest: \", + r2_score(forest_pred, y_test))"
   ]
  },
  {
   "cell_type": "code",
   "execution_count": 46,
   "id": "69cdbbd1",
   "metadata": {
    "execution": {
     "iopub.execute_input": "2023-04-27T02:44:47.056536Z",
     "iopub.status.busy": "2023-04-27T02:44:47.056139Z",
     "iopub.status.idle": "2023-04-27T02:44:47.349046Z",
     "shell.execute_reply": "2023-04-27T02:44:47.348122Z"
    },
    "papermill": {
     "duration": 0.318596,
     "end_time": "2023-04-27T02:44:47.351619",
     "exception": false,
     "start_time": "2023-04-27T02:44:47.033023",
     "status": "completed"
    },
    "tags": []
   },
   "outputs": [
    {
     "data": {
      "image/png": "[encoded data removed]",
      "text/plain": [
       "<Figure size 1500x500 with 1 Axes>"
      ]
     },
     "metadata": {},
     "output_type": "display_data"
    }
   ],
   "source": [
    "plt.figure(figsize=(15, 5))\n",
    "plt.scatter(range(len(y_test)), y_test, color='blue', label=\"actual price\", s=50) \n",
    "plt.scatter(range(len(y_test)), forest_pred, color='red', label=\"predicted price\", s=50)\n",
    "plt.ylabel(\"Furniture Price\", fontsize=20)\n",
    "plt.legend()\n",
    "plt.show()"
   ]
  },
  {
   "cell_type": "code",
   "execution_count": null,
   "id": "872611dc",
   "metadata": {
    "papermill": {
     "duration": 0.021878,
     "end_time": "2023-04-27T02:44:47.396424",
     "exception": false,
     "start_time": "2023-04-27T02:44:47.374546",
     "status": "completed"
    },
    "tags": []
   },
   "outputs": [],
   "source": []
  }
 ],
 "metadata": {
  "kernelspec": {
   "display_name": "Python 3",
   "language": "python",
   "name": "python3"
  },
  "language_info": {
   "codemirror_mode": {
    "name": "ipython",
    "version": 3
   },
   "file_extension": ".py",
   "mimetype": "text/x-python",
   "name": "python",
   "nbconvert_exporter": "python",
   "pygments_lexer": "ipython3",
   "version": "3.7.12"
  },
  "papermill": {
   "default_parameters": {},
   "duration": 27.990488,
   "end_time": "2023-04-27T02:44:48.545988",
   "environment_variables": {},
   "exception": null,
   "input_path": "__notebook__.ipynb",
   "output_path": "__notebook__.ipynb",
   "parameters": {},
   "start_time": "2023-04-27T02:44:20.555500",
   "version": "2.4.0"
  }
 },
 "nbformat": 4,
 "nbformat_minor": 5
}
